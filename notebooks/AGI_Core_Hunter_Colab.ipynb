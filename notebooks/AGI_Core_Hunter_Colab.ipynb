{
 "cells": [
  {
   "cell_type": "markdown",
   "metadata": {
    "id": "header"
   },
   "source": [
    "# 🚀 AGI Çekirdek Avcısı - Google Colab\n",
    "\n",
    "Bu notebook, AGI Core Hunter deneylerini Google Colab'da çalıştırmanızı sağlar.\n",
    "\n",
    "**Avantajlar:**\n",
    "- ✅ Ücretsiz GPU (T4)\n",
    "- ✅ 12 saat sürekli çalışma\n",
    "- ✅ Hızlı kurulum\n",
    "- ✅ Wandb entegrasyonu\n",
    "\n",
    "**Kullanım:** Runtime → Change runtime type → GPU"
   ]
  },
  {
   "cell_type": "code",
   "execution_count": null,
   "metadata": {
    "id": "setup"
   },
   "outputs": [],
   "source": [
    "# 🔧 Kurulum ve Bağımlılıklar\n",
    "!nvidia-smi  # GPU kontrolü\n",
    "\n",
    "# Seçenek 1: GitHub'dan klonla (eğer repo hazırsa)\n",
    "# !git clone https://github.com/[username]/agi_core_hunter.git\n",
    "# %cd agi_core_hunter\n",
    "\n",
    "# Seçenek 2: Manuel dosya yükleme\n",
    "print('📁 Dosyaları yüklemek için:')\n",
    "print('1. Sol panelden Files ikonuna tıkla')\n",
    "print('2. Upload butonuna tıkla')\n",
    "print('3. Tüm proje dosyalarını sürükle-bırak')\n",
    "print('4. Veya zip dosyası yükle ve aşağıdaki kodu çalıştır:')\n",
    "print()\n",
    "print('from google.colab import files')\n",
    "print('uploaded = files.upload()')\n",
    "print('!unzip agi_core_hunter.zip')\n",
    "print('%cd agi_core_hunter')\n",
    "\n",
    "# Bağımlılıkları yükle (Colab için optimize)\n",
    "!pip install jax[cuda] flax optax chex wandb tqdm matplotlib seaborn -q\n",
    "\n",
    "# Test kurulumu\n",
    "!python test_setup.py"
   ]
  },
  {
   "cell_type": "code",
   "execution_count": null,
   "metadata": {
    "id": "wandb_setup"
   },
   "outputs": [],
   "source": [
    "# 📊 Wandb Kurulumu\n",
    "import wandb\n",
    "\n",
    "# Wandb login (API key gerekli)\n",
    "wandb.login()\n",
    "\n",
    "# Veya offline mode\n",
    "# import os\n",
    "# os.environ['WANDB_MODE'] = 'offline'"
   ]
  },
  {
   "cell_type": "code",
   "execution_count": null,
   "metadata": {
    "id": "quick_demo"
   },
   "outputs": [],
   "source": [
    "# 🎮 Hızlı Demo (2 dakika)\n",
    "!python experiments/01_mdl_vs_ood/demo.py"
   ]
  },
  {
   "cell_type": "code",
   "execution_count": null,
   "metadata": {
    "id": "fast_experiment"
   },
   "outputs": [],
   "source": [
    "# ⚡ Hızlı Deney (500 episode, ~5 dakika)\n",
    "%cd experiments/01_mdl_vs_ood\n",
    "\n",
    "# Manifest'i düzenle (daha az episode)\n",
    "import json\n",
    "\n",
    "with open('manifest.json', 'r') as f:\n",
    "    config = json.load(f)\n",
    "\n",
    "# Hızlı test için parametreleri azalt\n",
    "config['training']['total_episodes'] = 500\n",
    "config['training']['eval_frequency'] = 100\n",
    "config['evaluation']['ood_tests'][0]['episodes'] = 50\n",
    "\n",
    "with open('manifest_fast.json', 'w') as f:\n",
    "    json.dump(config, f, indent=2)\n",
    "\n",
    "print(\"✅ Hızlı test konfigürasyonu hazır!\")"
   ]
  },
  {
   "cell_type": "code",
   "execution_count": null,
   "metadata": {
    "id": "run_experiment"
   },
   "outputs": [],
   "source": [
    "# 🧪 Deneyi Çalıştır\n",
    "!python train.py --manifest manifest_fast.json"
   ]
  },
  {
   "cell_type": "code",
   "execution_count": null,
   "metadata": {
    "id": "analyze_results"
   },
   "outputs": [],
   "source": [
    "# 📊 Sonuçları Analiz Et\n",
    "import json\n",
    "import matplotlib.pyplot as plt\n",
    "import pandas as pd\n",
    "\n",
    "# Sonuçları yükle\n",
    "with open('results.json', 'r') as f:\n",
    "    results = json.load(f)\n",
    "\n",
    "# Hızlı görselleştirme\n",
    "agents = list(results.keys())\n",
    "betas = [results[agent]['agent_config']['beta'] for agent in agents]\n",
    "ood_ratios = []\n",
    "\n",
    "for agent in agents:\n",
    "    ratios = [v for k, v in results[agent]['ood_performance_ratios'].items() \n",
    "             if k.endswith('_performance_ratio')]\n",
    "    ood_ratios.append(sum(ratios) / len(ratios) if ratios else 0)\n",
    "\n",
    "plt.figure(figsize=(10, 6))\n",
    "plt.scatter(betas, ood_ratios, s=100)\n",
    "for i, agent in enumerate(agents):\n",
    "    plt.annotate(agent, (betas[i], ood_ratios[i]))\n",
    "\n",
    "plt.xlabel('Beta (Compression Pressure)')\n",
    "plt.ylabel('Average OOD Performance Ratio')\n",
    "plt.title('MDL Principle Test Results')\n",
    "plt.grid(True, alpha=0.3)\n",
    "plt.show()\n",
    "\n",
    "# Sonuç özeti\n",
    "print(\"\\n🎯 SONUÇ ÖZETİ:\")\n",
    "for i, agent in enumerate(agents):\n",
    "    print(f\"{agent}: β={betas[i]}, OOD Ratio={ood_ratios[i]:.3f}\")\n",
    "\n",
    "# Hipotez testi\n",
    "import numpy as np\n",
    "correlation = np.corrcoef(betas, ood_ratios)[0, 1]\n",
    "print(f\"\\n📈 Beta-OOD Korelasyonu: {correlation:.3f}\")\n",
    "\n",
    "if correlation > 0.3:\n",
    "    print(\"✅ HİPOTEZ DESTEKLENDİ: Yüksek β daha iyi OOD performansı sağlıyor!\")\n",
    "elif correlation < -0.3:\n",
    "    print(\"❌ HİPOTEZ REDDEDİLDİ: Yüksek β OOD performansını kötüleştiriyor.\")\n",
    "else:\n",
    "    print(\"❓ HİPOTEZ BELİRSİZ: Daha fazla veri gerekli.\")"
   ]
  },
  {
   "cell_type": "code",
   "execution_count": null,
   "metadata": {
    "id": "full_experiment"
   },
   "outputs": [],
   "source": [
    "# 🔥 TAM DENEY (5000 episode, ~30 dakika)\n",
    "# Sadece sonuçlar tatmin edici değilse çalıştır\n",
    "\n",
    "# !python train.py  # Orijinal manifest ile"
   ]
  },
  {
   "cell_type": "code",
   "execution_count": null,
   "metadata": {
    "id": "save_results"
   },
   "outputs": [],
   "source": [
    "# 💾 Sonuçları Kaydet\n",
    "from google.colab import files\n",
    "import shutil\n",
    "\n",
    "# Sonuçları zip'le\n",
    "!zip -r experiment_results.zip results.json *.png wandb/\n",
    "\n",
    "# İndir\n",
    "files.download('experiment_results.zip')\n",
    "\n",
    "print(\"✅ Sonuçlar indirildi!\")"
   ]
  },
  {
   "cell_type": "markdown",
   "metadata": {
    "id": "next_steps"
   },
   "source": [
    "## 🚀 Sonraki Adımlar\n",
    "\n",
    "1. **Sonuçları Analiz Et:** İndirilen dosyaları yerel makinende incele\n",
    "2. **Blog Yazısı Yaz:** Bulgularını paylaş\n",
    "3. **Sonraki Deneyi Planla:** Farklı latent boyutları test et\n",
    "4. **Toplulukla Paylaş:** GitHub'da sonuçları güncelle\n",
    "\n",
    "## 💡 İpuçları\n",
    "\n",
    "- **GPU Süresi:** Colab Pro ile 24 saat\n",
    "- **Veri Kaybı:** Sonuçları düzenli olarak indir\n",
    "- **Hızlandırma:** JAX compilation cache kullan\n",
    "- **Monitoring:** Wandb dashboard'unu takip et"
   ]
  }
 ],
 "metadata": {
  "accelerator": "GPU",
  "colab": {
   "gpuType": "T4",
   "provenance": []
  },
  "kernelspec": {
   "display_name": "Python 3",
   "name": "python3"
  },
  "language_info": {
   "name": "python"
  }
 },
 "nbformat": 4,
 "nbformat_minor": 0
}