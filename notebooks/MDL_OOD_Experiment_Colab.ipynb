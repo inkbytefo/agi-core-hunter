{
 "cells": [
  {
   "cell_type": "markdown",
   "id": "82b15454",
   "metadata": {
    "id": "header"
   },
   "source": [
    "# 🚀 AGI Core Hunter - MDL vs OOD Experiment\n",
    "\n",
    "Bu notebook AGI Core Hunter projesinin **MDL vs OOD Generalization** deneyini Google Colab'da çalıştırır.\n",
    "\n",
    "**Hipotez:** Yüksek β değerine sahip ajanlar daha iyi OOD genelleme performansı gösterecek.\n",
    "\n",
    "**⚠️ Önemli:** Runtime → Change runtime type → GPU seçin!"
   ]
  },
  {
   "cell_type": "code",
   "execution_count": null,
   "id": "2333f8f6",
   "metadata": {
    "id": "setup"
   },
   "outputs": [],
   "source": [
    "# 🖥️ GPU Kontrolü ve Proje Kurulumu\n",
    "!nvidia-smi\n",
    "print(\"\\n🔄 Proje klonlanıyor...\")\n",
    "!git clone https://github.com/inkbytefo/agi-core-hunter.git\n",
    "%cd agi-core-hunter\n",
    "\n",
    "# Update pip\n",
    "!pip install --upgrade pip -q\n",
    "\n",
    "# Install the latest stable version of JAX with CUDA support\n",
    "!pip install \"jax[cuda]\" -q\n",
    "\n",
    "print(\"✅ JAX CUDA 12 installed!\")\n",
    "!pip install flax optax chex wandb tqdm matplotlib seaborn pandas numpy \n",
    "\n",
    "import jax\n",
    "print(f\"JAX version: {jax.__version__}\")\n",
    "print(f\"Available devices: {jax.devices()}\")\n",
    "\n",
    "!nvcc --version\n",
    "\n",
    "import jax\n",
    "print(f\"JAX version: {jax.__version__}\")\n",
    "print(f\"Available devices: {jax.devices()}\")\n",
    "\n"
   ]
  },
  {
   "cell_type": "code",
   "execution_count": null,
   "id": "b71e8bee",
   "metadata": {
    "id": "wandb_login"
   },
   "outputs": [],
   "source": [
    "# 📊 Wandb Login\n",
    "import wandb\n",
    "print(\"🔑 Wandb API key gerekli: https://wandb.ai/authorize\")\n",
    "wandb.login()\n",
    "\n",
    "# Alternatif offline mode:\n",
    "# import os\n",
    "# os.environ['WANDB_MODE'] = 'offline'"
   ]
  },
  {
   "cell_type": "code",
   "execution_count": null,
   "id": "e7cd7c66",
   "metadata": {
    "id": "view_config"
   },
   "outputs": [],
   "source": [
    "# 📋 Deney Konfigürasyonu\n",
    "%cd experiments/01_mdl_vs_ood\n",
    "import json\n",
    "with open('manifest.json', 'r') as f:\n",
    "    config = json.load(f)\n",
    "\n",
    "print(\"🧪 DENEY DETAYLARI:\")\n",
    "print(f\"Hipotez: {config['experiment']['hypothesis']}\")\n",
    "print(f\"Episode: {config['training']['total_episodes']}\")\n",
    "print(\"Ajanlar:\")\n",
    "for agent in config['agents']:\n",
    "    print(f\"  {agent['name']}: β={agent['config']['beta']}\")\n",
    "print(f\"OOD testleri: {len(config['evaluation']['ood_tests'])}\")"
   ]
  },
  {
   "cell_type": "code",
   "execution_count": null,
   "id": "e1b4fdb5",
   "metadata": {
    "id": "run_experiment"
   },
   "outputs": [],
   "source": [
    "# 🧪 DENEY ÇALIŞTIR\n",
    "import time\n",
    "start_time = time.time()\n",
    "\n",
    "print(\"🚀 MDL vs OOD deneyi başlıyor... (30-45 dakika)\")\n",
    "!python train.py\n",
    "\n",
    "duration = time.time() - start_time\n",
    "print(f\"\\n🎉 Deney tamamlandı! Süre: {duration/60:.1f} dakika\")"
   ]
  },
  {
   "cell_type": "code",
   "execution_count": null,
   "id": "9fdaeb82",
   "metadata": {
    "id": "analyze_results"
   },
   "outputs": [],
   "source": [
    "# 📊 SONUÇ ANALİZİ\n",
    "import matplotlib.pyplot as plt\n",
    "import numpy as np\n",
    "import pandas as pd\n",
    "\n",
    "# Sonuçları yükle\n",
    "with open('results.json', 'r') as f:\n",
    "    results = json.load(f)\n",
    "\n",
    "# Veri hazırla\n",
    "data = []\n",
    "for agent, agent_data in results.items():\n",
    "    beta = agent_data['agent_config']['beta']\n",
    "    standard_success = agent_data['standard_success_rate']\n",
    "    ood_ratios = [v for k, v in agent_data['ood_performance_ratios'].items() \n",
    "                 if k.endswith('_performance_ratio')]\n",
    "    avg_ood_ratio = np.mean(ood_ratios)\n",
    "    \n",
    "    data.append({\n",
    "        'Agent': agent,\n",
    "        'Beta': beta,\n",
    "        'Standard_Success': standard_success,\n",
    "        'Avg_OOD_Ratio': avg_ood_ratio\n",
    "    })\n",
    "\n",
    "df = pd.DataFrame(data).sort_values('Beta')\n",
    "print(\"📋 SONUÇLAR:\")\n",
    "print(df.round(3))\n",
    "\n",
    "# Görselleştirme\n",
    "fig, (ax1, ax2) = plt.subplots(1, 2, figsize=(12, 5))\n",
    "\n",
    "# Beta vs OOD Performance\n",
    "ax1.scatter(df['Beta'], df['Avg_OOD_Ratio'], s=100, c='red')\n",
    "for i, agent in enumerate(df['Agent']):\n",
    "    ax1.annotate(agent.replace('MDL_', ''), \n",
    "                (df['Beta'].iloc[i], df['Avg_OOD_Ratio'].iloc[i]))\n",
    "ax1.set_xlabel('Beta (Compression Pressure)')\n",
    "ax1.set_ylabel('Average OOD Performance Ratio')\n",
    "ax1.set_title('🎯 MDL Hypothesis Test')\n",
    "ax1.grid(True, alpha=0.3)\n",
    "\n",
    "# Performance Comparison\n",
    "x_pos = range(len(df))\n",
    "ax2.bar([x-0.2 for x in x_pos], df['Standard_Success'], 0.4, \n",
    "        label='Standard', alpha=0.7)\n",
    "ax2.bar([x+0.2 for x in x_pos], df['Avg_OOD_Ratio'], 0.4, \n",
    "        label='OOD Ratio', alpha=0.7)\n",
    "ax2.set_xlabel('Agents')\n",
    "ax2.set_ylabel('Performance')\n",
    "ax2.set_title('📊 Performance Comparison')\n",
    "ax2.set_xticks(x_pos)\n",
    "ax2.set_xticklabels([a.replace('MDL_', '') for a in df['Agent']])\n",
    "ax2.legend()\n",
    "ax2.grid(True, alpha=0.3)\n",
    "\n",
    "plt.tight_layout()\n",
    "plt.show()\n",
    "\n",
    "# Korelasyon analizi\n",
    "correlation = np.corrcoef(df['Beta'], df['Avg_OOD_Ratio'])[0, 1]\n",
    "print(f\"\\n📈 Beta-OOD Korelasyonu: {correlation:.3f}\")\n",
    "\n",
    "if correlation > 0.3:\n",
    "    print(\"✅ HİPOTEZ DESTEKLENDİ!\")\n",
    "    print(\"Yüksek β daha iyi OOD genelleme sağlıyor.\")\n",
    "elif correlation < -0.3:\n",
    "    print(\"❌ HİPOTEZ REDDEDİLDİ!\")\n",
    "    print(\"Yüksek β OOD performansını kötüleştiriyor.\")\n",
    "else:\n",
    "    print(\"❓ HİPOTEZ BELİRSİZ\")\n",
    "    print(\"β ve OOD performansı arasında net ilişki yok.\")"
   ]
  },
  {
   "cell_type": "code",
   "execution_count": null,
   "id": "78d157d7",
   "metadata": {
    "id": "save_results"
   },
   "outputs": [],
   "source": [
    "# 💾 Sonuçları Kaydet\n",
    "from google.colab import files\n",
    "\n",
    "# Sonuç dosyalarını hazırla\n",
    "!mkdir -p results_package\n",
    "!cp results.json results_package/\n",
    "!cp manifest.json results_package/config.json\n",
    "\n",
    "# Özet rapor oluştur\n",
    "summary = {\n",
    "    \"experiment\": \"MDL vs OOD Generalization\",\n",
    "    \"completion_time\": time.strftime(\"%Y-%m-%d %H:%M:%S\"),\n",
    "    \"hypothesis_result\": \"Supported\" if correlation > 0.3 else \"Rejected\" if correlation < -0.3 else \"Inconclusive\",\n",
    "    \"correlation\": float(correlation),\n",
    "    \"duration_minutes\": duration/60,\n",
    "    \"agent_results\": df.to_dict('records')\n",
    "}\n",
    "\n",
    "with open('results_package/summary.json', 'w') as f:\n",
    "    json.dump(summary, f, indent=2)\n",
    "\n",
    "# Zip olarak paketla ve indir\n",
    "!zip -r mdl_ood_results.zip results_package/\n",
    "files.download('mdl_ood_results.zip')\n",
    "\n",
    "print(\"✅ Sonuçlar kaydedildi ve indirildi!\")"
   ]
  }
 ],
 "metadata": {
  "language_info": {
   "name": "python"
  }
 },
 "nbformat": 4,
 "nbformat_minor": 5
}
